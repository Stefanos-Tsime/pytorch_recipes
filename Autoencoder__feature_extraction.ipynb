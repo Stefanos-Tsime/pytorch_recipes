{
 "cells": [
  {
   "cell_type": "markdown",
   "id": "sufficient-comparison",
   "metadata": {},
   "source": [
    "# Autoencoders for Feature Extraction"
   ]
  },
  {
   "cell_type": "markdown",
   "id": "extraordinary-usage",
   "metadata": {},
   "source": [
    "We will use Autoencoders to extract features from a two-class dataset, thus making model training more efficient."
   ]
  },
  {
   "cell_type": "code",
   "execution_count": 80,
   "id": "independent-interim",
   "metadata": {},
   "outputs": [],
   "source": [
    "import numpy as np\n",
    "from sklearn.preprocessing import StandardScaler\n",
    "import matplotlib.pyplot as plt\n",
    "import seaborn as sns\n",
    "import torch\n",
    "import torch.nn as nn\n",
    "from torch.utils.data import DataLoader\n",
    "from torch import optim"
   ]
  },
  {
   "cell_type": "code",
   "execution_count": 65,
   "id": "proud-proceeding",
   "metadata": {},
   "outputs": [],
   "source": [
    "data = torch.randn((200,10))"
   ]
  },
  {
   "cell_type": "code",
   "execution_count": 66,
   "id": "lightweight-slave",
   "metadata": {},
   "outputs": [],
   "source": [
    "batch_size = 40\n",
    "dataload = DataLoader(data,batch_size=batch_size)"
   ]
  },
  {
   "cell_type": "code",
   "execution_count": 67,
   "id": "formed-azerbaijan",
   "metadata": {},
   "outputs": [],
   "source": [
    "class AE(nn.Module):\n",
    "    def __init__(self):\n",
    "        super().__init__()\n",
    "        self.layer1 = nn.Linear(10,5)\n",
    "        self.layer2 = nn.Linear(5,2)\n",
    "        self.layer3 = nn.Linear(2,5)\n",
    "        self.out_layer = nn.Linear(5,10)\n",
    "        self.relu = nn.ReLU()\n",
    "        \n",
    "    def forward(self,x):\n",
    "        x = self.relu(self.layer1(x))\n",
    "        x = self.relu(self.layer2(x))\n",
    "        x = self.relu(self.layer3(x))\n",
    "        x = self.out_layer(x)\n",
    "        return x"
   ]
  },
  {
   "cell_type": "code",
   "execution_count": 68,
   "id": "registered-glass",
   "metadata": {},
   "outputs": [
    {
     "name": "stdout",
     "output_type": "stream",
     "text": [
      "AE(\n",
      "  (layer1): Linear(in_features=10, out_features=5, bias=True)\n",
      "  (layer2): Linear(in_features=5, out_features=2, bias=True)\n",
      "  (layer3): Linear(in_features=2, out_features=5, bias=True)\n",
      "  (out_layer): Linear(in_features=5, out_features=10, bias=True)\n",
      "  (relu): ReLU()\n",
      ")\n"
     ]
    }
   ],
   "source": [
    "device = torch.device('cuda' if torch.cuda.is_available() else 'cpu')\n",
    "n_epochs = 450\n",
    "lr = 1e-3\n",
    "\n",
    "model = AE()\n",
    "print(model)\n",
    "\n",
    "optimizer = optim.Adam(model.parameters(),lr=lr)\n",
    "loss_fn = nn.MSELoss()"
   ]
  },
  {
   "cell_type": "code",
   "execution_count": 69,
   "id": "incorporated-bridal",
   "metadata": {},
   "outputs": [
    {
     "data": {
      "text/plain": [
       "AE(\n",
       "  (layer1): Linear(in_features=10, out_features=5, bias=True)\n",
       "  (layer2): Linear(in_features=5, out_features=2, bias=True)\n",
       "  (layer3): Linear(in_features=2, out_features=5, bias=True)\n",
       "  (out_layer): Linear(in_features=5, out_features=10, bias=True)\n",
       "  (relu): ReLU()\n",
       ")"
      ]
     },
     "execution_count": 69,
     "metadata": {},
     "output_type": "execute_result"
    }
   ],
   "source": [
    "model.to(device)"
   ]
  },
  {
   "cell_type": "code",
   "execution_count": 70,
   "id": "subject-newman",
   "metadata": {
    "collapsed": true,
    "jupyter": {
     "outputs_hidden": true
    }
   },
   "outputs": [
    {
     "name": "stdout",
     "output_type": "stream",
     "text": [
      "epoch: 01 | loss: 1.1446658372879028\n",
      "epoch: 02 | loss: 1.132506251335144\n",
      "epoch: 03 | loss: 1.1210112571716309\n",
      "epoch: 04 | loss: 1.1101592779159546\n",
      "epoch: 05 | loss: 1.0999422073364258\n",
      "epoch: 06 | loss: 1.0903079509735107\n",
      "epoch: 07 | loss: 1.0812125205993652\n",
      "epoch: 08 | loss: 1.0726416110992432\n",
      "epoch: 09 | loss: 1.064573049545288\n",
      "epoch: 10 | loss: 1.0568997859954834\n",
      "epoch: 11 | loss: 1.0495511293411255\n",
      "epoch: 12 | loss: 1.042548656463623\n",
      "epoch: 13 | loss: 1.0358631610870361\n",
      "epoch: 14 | loss: 1.029401421546936\n",
      "epoch: 15 | loss: 1.023160696029663\n",
      "epoch: 16 | loss: 1.0170928239822388\n",
      "epoch: 17 | loss: 1.0111844539642334\n",
      "epoch: 18 | loss: 1.0054361820220947\n",
      "epoch: 19 | loss: 0.9998564720153809\n",
      "epoch: 20 | loss: 0.9944108128547668\n",
      "epoch: 21 | loss: 0.989056408405304\n",
      "epoch: 22 | loss: 0.9838085174560547\n",
      "epoch: 23 | loss: 0.9786102175712585\n",
      "epoch: 24 | loss: 0.9735148549079895\n",
      "epoch: 25 | loss: 0.9686083793640137\n",
      "epoch: 26 | loss: 0.9637588262557983\n",
      "epoch: 27 | loss: 0.9589062929153442\n",
      "epoch: 28 | loss: 0.9540847539901733\n",
      "epoch: 29 | loss: 0.9492553472518921\n",
      "epoch: 30 | loss: 0.9443968534469604\n",
      "epoch: 31 | loss: 0.9395825266838074\n",
      "epoch: 32 | loss: 0.9348185658454895\n",
      "epoch: 33 | loss: 0.9301827549934387\n",
      "epoch: 34 | loss: 0.92561274766922\n",
      "epoch: 35 | loss: 0.9210633039474487\n",
      "epoch: 36 | loss: 0.9165332913398743\n",
      "epoch: 37 | loss: 0.9120500683784485\n",
      "epoch: 38 | loss: 0.9075857400894165\n",
      "epoch: 39 | loss: 0.9031504392623901\n",
      "epoch: 40 | loss: 0.8987542986869812\n",
      "epoch: 41 | loss: 0.8943871259689331\n",
      "epoch: 42 | loss: 0.890040397644043\n",
      "epoch: 43 | loss: 0.8857029676437378\n",
      "epoch: 44 | loss: 0.8813782930374146\n",
      "epoch: 45 | loss: 0.877077579498291\n",
      "epoch: 46 | loss: 0.8727195858955383\n",
      "epoch: 47 | loss: 0.8683658838272095\n",
      "epoch: 48 | loss: 0.8640685081481934\n",
      "epoch: 49 | loss: 0.8598490953445435\n",
      "epoch: 50 | loss: 0.8558310270309448\n",
      "epoch: 51 | loss: 0.8519360423088074\n",
      "epoch: 52 | loss: 0.8481615781784058\n",
      "epoch: 53 | loss: 0.8444870114326477\n",
      "epoch: 54 | loss: 0.8409601449966431\n",
      "epoch: 55 | loss: 0.8375285267829895\n",
      "epoch: 56 | loss: 0.8342229127883911\n",
      "epoch: 57 | loss: 0.8310607671737671\n",
      "epoch: 58 | loss: 0.8280447125434875\n",
      "epoch: 59 | loss: 0.8251779675483704\n",
      "epoch: 60 | loss: 0.8224378824234009\n",
      "epoch: 61 | loss: 0.8198210597038269\n",
      "epoch: 62 | loss: 0.8173466920852661\n",
      "epoch: 63 | loss: 0.8150075674057007\n",
      "epoch: 64 | loss: 0.8127989768981934\n",
      "epoch: 65 | loss: 0.8107088804244995\n",
      "epoch: 66 | loss: 0.8087393045425415\n",
      "epoch: 67 | loss: 0.8068767786026001\n",
      "epoch: 68 | loss: 0.8051126599311829\n",
      "epoch: 69 | loss: 0.803437352180481\n",
      "epoch: 70 | loss: 0.8018447160720825\n",
      "epoch: 71 | loss: 0.8003333210945129\n",
      "epoch: 72 | loss: 0.7988958954811096\n",
      "epoch: 73 | loss: 0.7975154519081116\n",
      "epoch: 74 | loss: 0.7961947321891785\n",
      "epoch: 75 | loss: 0.7949301600456238\n",
      "epoch: 76 | loss: 0.7937055826187134\n",
      "epoch: 77 | loss: 0.792556643486023\n",
      "epoch: 78 | loss: 0.7914583683013916\n",
      "epoch: 79 | loss: 0.7904088497161865\n",
      "epoch: 80 | loss: 0.7894008755683899\n",
      "epoch: 81 | loss: 0.7884321808815002\n",
      "epoch: 82 | loss: 0.7875010967254639\n",
      "epoch: 83 | loss: 0.7866036295890808\n",
      "epoch: 84 | loss: 0.785724937915802\n",
      "epoch: 85 | loss: 0.7848770022392273\n",
      "epoch: 86 | loss: 0.7840481996536255\n",
      "epoch: 87 | loss: 0.7832420468330383\n",
      "epoch: 88 | loss: 0.782455563545227\n",
      "epoch: 89 | loss: 0.7816888689994812\n",
      "epoch: 90 | loss: 0.7809483408927917\n",
      "epoch: 91 | loss: 0.7802322506904602\n",
      "epoch: 92 | loss: 0.7795190215110779\n",
      "epoch: 93 | loss: 0.7788044810295105\n",
      "epoch: 94 | loss: 0.7780954241752625\n",
      "epoch: 95 | loss: 0.7773966193199158\n",
      "epoch: 96 | loss: 0.7767160534858704\n",
      "epoch: 97 | loss: 0.7760509252548218\n",
      "epoch: 98 | loss: 0.7753958702087402\n",
      "epoch: 99 | loss: 0.7747445106506348\n",
      "epoch: 100 | loss: 0.7741034626960754\n",
      "epoch: 101 | loss: 0.7734750509262085\n",
      "epoch: 102 | loss: 0.7728524208068848\n",
      "epoch: 103 | loss: 0.7722384333610535\n",
      "epoch: 104 | loss: 0.771629273891449\n",
      "epoch: 105 | loss: 0.7710422277450562\n",
      "epoch: 106 | loss: 0.7704662084579468\n",
      "epoch: 107 | loss: 0.7699035406112671\n",
      "epoch: 108 | loss: 0.7693518996238708\n",
      "epoch: 109 | loss: 0.7688101530075073\n",
      "epoch: 110 | loss: 0.7682859301567078\n",
      "epoch: 111 | loss: 0.767758846282959\n",
      "epoch: 112 | loss: 0.7672423124313354\n",
      "epoch: 113 | loss: 0.7667214870452881\n",
      "epoch: 114 | loss: 0.7662020921707153\n",
      "epoch: 115 | loss: 0.7656877040863037\n",
      "epoch: 116 | loss: 0.7651669383049011\n",
      "epoch: 117 | loss: 0.7646500468254089\n",
      "epoch: 118 | loss: 0.7641386985778809\n",
      "epoch: 119 | loss: 0.7636340856552124\n",
      "epoch: 120 | loss: 0.7631435394287109\n",
      "epoch: 121 | loss: 0.7626471519470215\n",
      "epoch: 122 | loss: 0.7621447443962097\n",
      "epoch: 123 | loss: 0.7616504430770874\n",
      "epoch: 124 | loss: 0.7611497044563293\n",
      "epoch: 125 | loss: 0.760653555393219\n",
      "epoch: 126 | loss: 0.7601504325866699\n",
      "epoch: 127 | loss: 0.7596538066864014\n",
      "epoch: 128 | loss: 0.759152889251709\n",
      "epoch: 129 | loss: 0.7586685419082642\n",
      "epoch: 130 | loss: 0.7581790089607239\n",
      "epoch: 131 | loss: 0.7576855421066284\n",
      "epoch: 132 | loss: 0.7571938633918762\n",
      "epoch: 133 | loss: 0.7567118406295776\n",
      "epoch: 134 | loss: 0.7562361359596252\n",
      "epoch: 135 | loss: 0.7557697892189026\n",
      "epoch: 136 | loss: 0.7552981972694397\n",
      "epoch: 137 | loss: 0.7548456788063049\n",
      "epoch: 138 | loss: 0.7543977499008179\n",
      "epoch: 139 | loss: 0.753947913646698\n",
      "epoch: 140 | loss: 0.7534979581832886\n",
      "epoch: 141 | loss: 0.7530592679977417\n",
      "epoch: 142 | loss: 0.7526227831840515\n",
      "epoch: 143 | loss: 0.7521848082542419\n",
      "epoch: 144 | loss: 0.751741886138916\n",
      "epoch: 145 | loss: 0.7512981295585632\n",
      "epoch: 146 | loss: 0.7508435249328613\n",
      "epoch: 147 | loss: 0.7503870725631714\n",
      "epoch: 148 | loss: 0.749940812587738\n",
      "epoch: 149 | loss: 0.7494969964027405\n",
      "epoch: 150 | loss: 0.7490491271018982\n",
      "epoch: 151 | loss: 0.7485976219177246\n",
      "epoch: 152 | loss: 0.7481468319892883\n",
      "epoch: 153 | loss: 0.7477161288261414\n",
      "epoch: 154 | loss: 0.747286856174469\n",
      "epoch: 155 | loss: 0.7468500137329102\n",
      "epoch: 156 | loss: 0.7464118003845215\n",
      "epoch: 157 | loss: 0.7459777593612671\n",
      "epoch: 158 | loss: 0.7455457448959351\n",
      "epoch: 159 | loss: 0.7451162338256836\n",
      "epoch: 160 | loss: 0.744692325592041\n",
      "epoch: 161 | loss: 0.744266152381897\n",
      "epoch: 162 | loss: 0.7438406944274902\n",
      "epoch: 163 | loss: 0.7434271574020386\n",
      "epoch: 164 | loss: 0.7430100440979004\n",
      "epoch: 165 | loss: 0.742602527141571\n",
      "epoch: 166 | loss: 0.7421945333480835\n",
      "epoch: 167 | loss: 0.7417928576469421\n",
      "epoch: 168 | loss: 0.7414118051528931\n",
      "epoch: 169 | loss: 0.7410258054733276\n",
      "epoch: 170 | loss: 0.7406544089317322\n",
      "epoch: 171 | loss: 0.7402804493904114\n",
      "epoch: 172 | loss: 0.7399121522903442\n",
      "epoch: 173 | loss: 0.7395632266998291\n",
      "epoch: 174 | loss: 0.7391956448554993\n",
      "epoch: 175 | loss: 0.7388299703598022\n",
      "epoch: 176 | loss: 0.738481879234314\n",
      "epoch: 177 | loss: 0.738129198551178\n",
      "epoch: 178 | loss: 0.7377730011940002\n",
      "epoch: 179 | loss: 0.7374398112297058\n",
      "epoch: 180 | loss: 0.7371013164520264\n",
      "epoch: 181 | loss: 0.7367559671401978\n",
      "epoch: 182 | loss: 0.7364357709884644\n",
      "epoch: 183 | loss: 0.7361243367195129\n",
      "epoch: 184 | loss: 0.7357882261276245\n",
      "epoch: 185 | loss: 0.7354835867881775\n",
      "epoch: 186 | loss: 0.7351747751235962\n",
      "epoch: 187 | loss: 0.734855592250824\n",
      "epoch: 188 | loss: 0.7345646619796753\n",
      "epoch: 189 | loss: 0.7342696189880371\n",
      "epoch: 190 | loss: 0.7339791059494019\n",
      "epoch: 191 | loss: 0.7336714267730713\n",
      "epoch: 192 | loss: 0.7333993315696716\n",
      "epoch: 193 | loss: 0.7331174612045288\n",
      "epoch: 194 | loss: 0.7328462600708008\n",
      "epoch: 195 | loss: 0.7325752973556519\n",
      "epoch: 196 | loss: 0.7323092222213745\n",
      "epoch: 197 | loss: 0.7320544123649597\n",
      "epoch: 198 | loss: 0.7317687273025513\n",
      "epoch: 199 | loss: 0.7314869165420532\n",
      "epoch: 200 | loss: 0.7312155961990356\n",
      "epoch: 201 | loss: 0.7309463024139404\n",
      "epoch: 202 | loss: 0.730683445930481\n",
      "epoch: 203 | loss: 0.7304235100746155\n",
      "epoch: 204 | loss: 0.73016357421875\n",
      "epoch: 205 | loss: 0.729906439781189\n",
      "epoch: 206 | loss: 0.7296634316444397\n",
      "epoch: 207 | loss: 0.7294171452522278\n",
      "epoch: 208 | loss: 0.7291817665100098\n",
      "epoch: 209 | loss: 0.728951096534729\n",
      "epoch: 210 | loss: 0.7287208437919617\n",
      "epoch: 211 | loss: 0.7284839749336243\n",
      "epoch: 212 | loss: 0.7282478213310242\n",
      "epoch: 213 | loss: 0.7280122637748718\n",
      "epoch: 214 | loss: 0.7277215123176575\n",
      "epoch: 215 | loss: 0.7274191975593567\n",
      "epoch: 216 | loss: 0.7271277904510498\n",
      "epoch: 217 | loss: 0.7268475294113159\n",
      "epoch: 218 | loss: 0.7265821695327759\n",
      "epoch: 219 | loss: 0.7263239622116089\n",
      "epoch: 220 | loss: 0.7260745763778687\n",
      "epoch: 221 | loss: 0.725837230682373\n",
      "epoch: 222 | loss: 0.7255997657775879\n",
      "epoch: 223 | loss: 0.7253752946853638\n",
      "epoch: 224 | loss: 0.725155234336853\n",
      "epoch: 225 | loss: 0.7249350547790527\n",
      "epoch: 226 | loss: 0.7247161269187927\n",
      "epoch: 227 | loss: 0.7245001792907715\n",
      "epoch: 228 | loss: 0.7242887616157532\n",
      "epoch: 229 | loss: 0.7240792512893677\n",
      "epoch: 230 | loss: 0.7238732576370239\n",
      "epoch: 231 | loss: 0.7236663103103638\n",
      "epoch: 232 | loss: 0.7234582901000977\n",
      "epoch: 233 | loss: 0.7232545614242554\n",
      "epoch: 234 | loss: 0.7230518460273743\n",
      "epoch: 235 | loss: 0.7228511571884155\n",
      "epoch: 236 | loss: 0.7226545214653015\n",
      "epoch: 237 | loss: 0.7224618196487427\n",
      "epoch: 238 | loss: 0.7222745418548584\n",
      "epoch: 239 | loss: 0.7220864295959473\n",
      "epoch: 240 | loss: 0.7218984365463257\n",
      "epoch: 241 | loss: 0.7217158675193787\n",
      "epoch: 242 | loss: 0.7215328812599182\n",
      "epoch: 243 | loss: 0.7213519811630249\n",
      "epoch: 244 | loss: 0.7211752533912659\n",
      "epoch: 245 | loss: 0.7209990620613098\n",
      "epoch: 246 | loss: 0.7208330631256104\n",
      "epoch: 247 | loss: 0.7206645607948303\n",
      "epoch: 248 | loss: 0.720497727394104\n",
      "epoch: 249 | loss: 0.720336377620697\n",
      "epoch: 250 | loss: 0.7201756238937378\n",
      "epoch: 251 | loss: 0.7200120687484741\n",
      "epoch: 252 | loss: 0.7198513150215149\n",
      "epoch: 253 | loss: 0.7196906805038452\n",
      "epoch: 254 | loss: 0.7195307016372681\n",
      "epoch: 255 | loss: 0.7193762063980103\n",
      "epoch: 256 | loss: 0.7192265391349792\n",
      "epoch: 257 | loss: 0.7190760374069214\n",
      "epoch: 258 | loss: 0.7189290523529053\n",
      "epoch: 259 | loss: 0.7187846899032593\n",
      "epoch: 260 | loss: 0.7186470031738281\n",
      "epoch: 261 | loss: 0.7185074687004089\n",
      "epoch: 262 | loss: 0.7183747887611389\n",
      "epoch: 263 | loss: 0.7182400822639465\n",
      "epoch: 264 | loss: 0.7181116938591003\n",
      "epoch: 265 | loss: 0.7179858684539795\n",
      "epoch: 266 | loss: 0.7178584933280945\n",
      "epoch: 267 | loss: 0.7177225351333618\n",
      "epoch: 268 | loss: 0.717595636844635\n",
      "epoch: 269 | loss: 0.7174848318099976\n",
      "epoch: 270 | loss: 0.7173469066619873\n",
      "epoch: 271 | loss: 0.7172231078147888\n",
      "epoch: 272 | loss: 0.7170920372009277\n",
      "epoch: 273 | loss: 0.7169791460037231\n",
      "epoch: 274 | loss: 0.7168509364128113\n",
      "epoch: 275 | loss: 0.7167360186576843\n",
      "epoch: 276 | loss: 0.7166211009025574\n",
      "epoch: 277 | loss: 0.7164992094039917\n",
      "epoch: 278 | loss: 0.7163816690444946\n",
      "epoch: 279 | loss: 0.7162602543830872\n",
      "epoch: 280 | loss: 0.7161584496498108\n",
      "epoch: 281 | loss: 0.7160394787788391\n",
      "epoch: 282 | loss: 0.7159229516983032\n",
      "epoch: 283 | loss: 0.715812623500824\n",
      "epoch: 284 | loss: 0.7156928181648254\n",
      "epoch: 285 | loss: 0.7155786752700806\n",
      "epoch: 286 | loss: 0.7154642343521118\n",
      "epoch: 287 | loss: 0.7153650522232056\n",
      "epoch: 288 | loss: 0.7152504324913025\n",
      "epoch: 289 | loss: 0.7151356339454651\n",
      "epoch: 290 | loss: 0.7150183916091919\n",
      "epoch: 291 | loss: 0.7149103283882141\n",
      "epoch: 292 | loss: 0.7147989273071289\n",
      "epoch: 293 | loss: 0.7146881818771362\n",
      "epoch: 294 | loss: 0.7145878672599792\n",
      "epoch: 295 | loss: 0.7144684791564941\n",
      "epoch: 296 | loss: 0.7143548727035522\n",
      "epoch: 297 | loss: 0.7142525315284729\n",
      "epoch: 298 | loss: 0.7141391038894653\n",
      "epoch: 299 | loss: 0.7140287160873413\n",
      "epoch: 300 | loss: 0.7139183878898621\n",
      "epoch: 301 | loss: 0.7137916088104248\n",
      "epoch: 302 | loss: 0.7136658430099487\n",
      "epoch: 303 | loss: 0.7135577201843262\n",
      "epoch: 304 | loss: 0.7134279012680054\n",
      "epoch: 305 | loss: 0.7132969498634338\n",
      "epoch: 306 | loss: 0.7131825685501099\n",
      "epoch: 307 | loss: 0.7130621671676636\n",
      "epoch: 308 | loss: 0.7129442691802979\n",
      "epoch: 309 | loss: 0.712811291217804\n",
      "epoch: 310 | loss: 0.7126846313476562\n",
      "epoch: 311 | loss: 0.7125470042228699\n",
      "epoch: 312 | loss: 0.7124115228652954\n",
      "epoch: 313 | loss: 0.7122873067855835\n",
      "epoch: 314 | loss: 0.7121491432189941\n",
      "epoch: 315 | loss: 0.7120185494422913\n",
      "epoch: 316 | loss: 0.7118850946426392\n",
      "epoch: 317 | loss: 0.7117454409599304\n",
      "epoch: 318 | loss: 0.7116173505783081\n",
      "epoch: 319 | loss: 0.7114797830581665\n",
      "epoch: 320 | loss: 0.7113407850265503\n",
      "epoch: 321 | loss: 0.7111837863922119\n",
      "epoch: 322 | loss: 0.7110376358032227\n",
      "epoch: 323 | loss: 0.7108862400054932\n",
      "epoch: 324 | loss: 0.7107234001159668\n",
      "epoch: 325 | loss: 0.710574746131897\n",
      "epoch: 326 | loss: 0.7104161977767944\n",
      "epoch: 327 | loss: 0.7102625966072083\n",
      "epoch: 328 | loss: 0.7101138830184937\n",
      "epoch: 329 | loss: 0.7099612951278687\n",
      "epoch: 330 | loss: 0.709816038608551\n",
      "epoch: 331 | loss: 0.7096654772758484\n",
      "epoch: 332 | loss: 0.7095321416854858\n",
      "epoch: 333 | loss: 0.7093932032585144\n",
      "epoch: 334 | loss: 0.7092421650886536\n",
      "epoch: 335 | loss: 0.7091116309165955\n",
      "epoch: 336 | loss: 0.7089763879776001\n",
      "epoch: 337 | loss: 0.708838939666748\n",
      "epoch: 338 | loss: 0.7086881399154663\n",
      "epoch: 339 | loss: 0.708544135093689\n",
      "epoch: 340 | loss: 0.7084002494812012\n",
      "epoch: 341 | loss: 0.7082509994506836\n",
      "epoch: 342 | loss: 0.7080891728401184\n",
      "epoch: 343 | loss: 0.7079368829727173\n",
      "epoch: 344 | loss: 0.7077854871749878\n",
      "epoch: 345 | loss: 0.7076339721679688\n",
      "epoch: 346 | loss: 0.7074801921844482\n",
      "epoch: 347 | loss: 0.7073187232017517\n",
      "epoch: 348 | loss: 0.7071552276611328\n",
      "epoch: 349 | loss: 0.706993579864502\n",
      "epoch: 350 | loss: 0.7068339586257935\n",
      "epoch: 351 | loss: 0.7066782712936401\n",
      "epoch: 352 | loss: 0.706527054309845\n",
      "epoch: 353 | loss: 0.7063709497451782\n",
      "epoch: 354 | loss: 0.7062175869941711\n",
      "epoch: 355 | loss: 0.7060715556144714\n",
      "epoch: 356 | loss: 0.7059488892555237\n",
      "epoch: 357 | loss: 0.7057961225509644\n",
      "epoch: 358 | loss: 0.7056413292884827\n",
      "epoch: 359 | loss: 0.7054939270019531\n",
      "epoch: 360 | loss: 0.7053518891334534\n",
      "epoch: 361 | loss: 0.7052062749862671\n",
      "epoch: 362 | loss: 0.7050565481185913\n",
      "epoch: 363 | loss: 0.704904317855835\n",
      "epoch: 364 | loss: 0.7047497630119324\n",
      "epoch: 365 | loss: 0.7045929431915283\n",
      "epoch: 366 | loss: 0.7044299244880676\n",
      "epoch: 367 | loss: 0.7042822241783142\n",
      "epoch: 368 | loss: 0.7041158676147461\n",
      "epoch: 369 | loss: 0.7039642333984375\n",
      "epoch: 370 | loss: 0.7038143873214722\n",
      "epoch: 371 | loss: 0.7036627531051636\n",
      "epoch: 372 | loss: 0.7035141587257385\n",
      "epoch: 373 | loss: 0.7033568620681763\n",
      "epoch: 374 | loss: 0.7032285928726196\n",
      "epoch: 375 | loss: 0.7030860185623169\n",
      "epoch: 376 | loss: 0.7029331922531128\n",
      "epoch: 377 | loss: 0.7027839422225952\n",
      "epoch: 378 | loss: 0.7026349306106567\n",
      "epoch: 379 | loss: 0.7024976015090942\n",
      "epoch: 380 | loss: 0.7023572325706482\n",
      "epoch: 381 | loss: 0.7022255659103394\n",
      "epoch: 382 | loss: 0.702104389667511\n",
      "epoch: 383 | loss: 0.7019549608230591\n",
      "epoch: 384 | loss: 0.7018448710441589\n",
      "epoch: 385 | loss: 0.7016975283622742\n",
      "epoch: 386 | loss: 0.7015409469604492\n",
      "epoch: 387 | loss: 0.7014172077178955\n",
      "epoch: 388 | loss: 0.7012854814529419\n",
      "epoch: 389 | loss: 0.7011405229568481\n",
      "epoch: 390 | loss: 0.7010246515274048\n",
      "epoch: 391 | loss: 0.700882613658905\n",
      "epoch: 392 | loss: 0.7007121443748474\n",
      "epoch: 393 | loss: 0.7005969285964966\n",
      "epoch: 394 | loss: 0.7004546523094177\n",
      "epoch: 395 | loss: 0.7003017663955688\n",
      "epoch: 396 | loss: 0.7001681327819824\n",
      "epoch: 397 | loss: 0.7000299692153931\n",
      "epoch: 398 | loss: 0.6999291181564331\n",
      "epoch: 399 | loss: 0.699786365032196\n",
      "epoch: 400 | loss: 0.6996251344680786\n",
      "epoch: 401 | loss: 0.6995292901992798\n",
      "epoch: 402 | loss: 0.6993871927261353\n",
      "epoch: 403 | loss: 0.6992307901382446\n",
      "epoch: 404 | loss: 0.6991575956344604\n",
      "epoch: 405 | loss: 0.6990219950675964\n",
      "epoch: 406 | loss: 0.6988676190376282\n",
      "epoch: 407 | loss: 0.6987841725349426\n",
      "epoch: 408 | loss: 0.6986645460128784\n",
      "epoch: 409 | loss: 0.6985084414482117\n",
      "epoch: 410 | loss: 0.6984356641769409\n",
      "epoch: 411 | loss: 0.6983034014701843\n",
      "epoch: 412 | loss: 0.6981761455535889\n",
      "epoch: 413 | loss: 0.6980538368225098\n",
      "epoch: 414 | loss: 0.6979815363883972\n",
      "epoch: 415 | loss: 0.6978488564491272\n",
      "epoch: 416 | loss: 0.6977039575576782\n",
      "epoch: 417 | loss: 0.6976601481437683\n",
      "epoch: 418 | loss: 0.6975305676460266\n",
      "epoch: 419 | loss: 0.6973692178726196\n",
      "epoch: 420 | loss: 0.6973357796669006\n",
      "epoch: 421 | loss: 0.6971940398216248\n",
      "epoch: 422 | loss: 0.6970374584197998\n",
      "epoch: 423 | loss: 0.6970006227493286\n",
      "epoch: 424 | loss: 0.6968640685081482\n",
      "epoch: 425 | loss: 0.6967061161994934\n",
      "epoch: 426 | loss: 0.6966867446899414\n",
      "epoch: 427 | loss: 0.6965399384498596\n",
      "epoch: 428 | loss: 0.6964131593704224\n",
      "epoch: 429 | loss: 0.6963263154029846\n",
      "epoch: 430 | loss: 0.6961883306503296\n",
      "epoch: 431 | loss: 0.6961214542388916\n",
      "epoch: 432 | loss: 0.6960175037384033\n",
      "epoch: 433 | loss: 0.6958774328231812\n",
      "epoch: 434 | loss: 0.6958075165748596\n",
      "epoch: 435 | loss: 0.6956945657730103\n",
      "epoch: 436 | loss: 0.6955469846725464\n",
      "epoch: 437 | loss: 0.6954748034477234\n",
      "epoch: 438 | loss: 0.6953568458557129\n",
      "epoch: 439 | loss: 0.695218026638031\n",
      "epoch: 440 | loss: 0.6951413154602051\n",
      "epoch: 441 | loss: 0.6950322985649109\n",
      "epoch: 442 | loss: 0.694879949092865\n",
      "epoch: 443 | loss: 0.6948140859603882\n",
      "epoch: 444 | loss: 0.6946929693222046\n",
      "epoch: 445 | loss: 0.6945436000823975\n",
      "epoch: 446 | loss: 0.6944820284843445\n",
      "epoch: 447 | loss: 0.6943615078926086\n",
      "epoch: 448 | loss: 0.6942302584648132\n",
      "epoch: 449 | loss: 0.694145917892456\n",
      "epoch: 450 | loss: 0.6940296292304993\n"
     ]
    }
   ],
   "source": [
    "model.train()\n",
    "agg_loss = []\n",
    "for epoch in range(1,n_epochs+1):\n",
    "    epoch_loss = 0\n",
    "    for x in dataload:\n",
    "        optimizer.zero_grad()\n",
    "        preds = model(x)\n",
    "        loss = loss_fn(preds,x)\n",
    "        loss.backward()\n",
    "        optimizer.step()\n",
    "        epoch_loss += loss\n",
    "    epoch_loss = epoch_loss/len(dataload)\n",
    "    agg_loss.append(epoch_loss)\n",
    "    print(f'epoch: {epoch+0:03} | loss: {epoch_loss}')"
   ]
  },
  {
   "cell_type": "code",
   "execution_count": 64,
   "id": "quantitative-words",
   "metadata": {},
   "outputs": [
    {
     "data": {
      "text/plain": [
       "[<matplotlib.lines.Line2D at 0x28163e3b4c8>]"
      ]
     },
     "execution_count": 64,
     "metadata": {},
     "output_type": "execute_result"
    },
    {
     "data": {
      "image/png": "[encoded data removed]",
      "text/plain": [
       "<Figure size 432x288 with 1 Axes>"
      ]
     },
     "metadata": {
      "needs_background": "light"
     },
     "output_type": "display_data"
    }
   ],
   "source": [
    "plt.plot(agg_loss)"
   ]
  },
  {
   "cell_type": "code",
   "execution_count": 71,
   "id": "victorian-israel",
   "metadata": {},
   "outputs": [
    {
     "data": {
      "text/plain": [
       "[<matplotlib.lines.Line2D at 0x28165e1da88>]"
      ]
     },
     "execution_count": 71,
     "metadata": {},
     "output_type": "execute_result"
    },
    {
     "data": {
      "image/png": "[encoded data removed]",
      "text/plain": [
       "<Figure size 432x288 with 1 Axes>"
      ]
     },
     "metadata": {
      "needs_background": "light"
     },
     "output_type": "display_data"
    }
   ],
   "source": [
    "plt.plot(agg_loss)"
   ]
  },
  {
   "cell_type": "markdown",
   "id": "connected-shipping",
   "metadata": {},
   "source": [
    "# Reconstruct the Data"
   ]
  },
  {
   "cell_type": "markdown",
   "id": "respiratory-excuse",
   "metadata": {},
   "source": [
    "Before performing the feature extraction, we want to make sure the AE can actually fit the data. Rather than merely inspecting the reconstruction error (mean_squared_error), we will train a Logistic Regression model with the original data, then generate predictions with both the original and the AE-reconstructed test data, and compare performance.\n",
    "\n",
    "If these two arrangements yield similar accuracy we can proceed to feature extraction."
   ]
  },
  {
   "cell_type": "markdown",
   "id": "experienced-cooperative",
   "metadata": {},
   "source": [
    "We start by synthesizing the data:"
   ]
  },
  {
   "cell_type": "code",
   "execution_count": 82,
   "id": "spare-addition",
   "metadata": {},
   "outputs": [
    {
     "data": {
      "image/png": "[encoded data removed]",
      "text/plain": [
       "<Figure size 432x288 with 1 Axes>"
      ]
     },
     "metadata": {
      "needs_background": "light"
     },
     "output_type": "display_data"
    }
   ],
   "source": [
    "from sklearn.datasets import make_blobs\n",
    "from sklearn.metrics import accuracy_score,confusion_matrix\n",
    "from sklearn.model_selection import train_test_split\n",
    "\n",
    "x,y = make_blobs(400,10,centers=2,cluster_std=5.5,random_state=33)\n",
    "plt.scatter(x[y==0][:,0],x[y==0][:,1],c='red')\n",
    "plt.scatter(x[y==1][:,0],x[y==1][:,1],c='green')\n",
    "\n",
    "x_tr,x_ts,y_tr,y_ts = train_test_split(x,y,train_size=0.8,random_state=33)"
   ]
  },
  {
   "cell_type": "markdown",
   "id": "tropical-daisy",
   "metadata": {},
   "source": [
    "We will first train and test a Logistic Regression with the original data to see what level of accuracy we might expect."
   ]
  },
  {
   "cell_type": "code",
   "execution_count": 83,
   "id": "ranging-briefs",
   "metadata": {},
   "outputs": [
    {
     "name": "stdout",
     "output_type": "stream",
     "text": [
      "accuracy: 0.9875\n",
      "\n"
     ]
    },
    {
     "data": {
      "text/plain": [
       "<AxesSubplot:>"
      ]
     },
     "execution_count": 83,
     "metadata": {},
     "output_type": "execute_result"
    },
    {
     "data": {
      "image/png": "[encoded data removed]",
      "text/plain": [
       "<Figure size 432x288 with 2 Axes>"
      ]
     },
     "metadata": {
      "needs_background": "light"
     },
     "output_type": "display_data"
    }
   ],
   "source": [
    "from sklearn.linear_model import LogisticRegression\n",
    "lr = LogisticRegression()\n",
    "lr.fit(x_tr,y_tr)\n",
    "preds = lr.predict(x_ts)\n",
    "\n",
    "print('accuracy:', accuracy_score(y_ts,preds))\n",
    "print('')\n",
    "sns.heatmap(confusion_matrix(y_ts,preds),annot=True,fmt='1d')"
   ]
  },
  {
   "cell_type": "markdown",
   "id": "pending-austria",
   "metadata": {},
   "source": [
    "Import pytorch libraries."
   ]
  },
  {
   "cell_type": "code",
   "execution_count": 22,
   "id": "dental-gentleman",
   "metadata": {},
   "outputs": [],
   "source": [
    "import torch\n",
    "import torch.nn as nn\n",
    "from torch.utils.data import DataLoader\n",
    "from torch import optim"
   ]
  },
  {
   "cell_type": "markdown",
   "id": "confused-information",
   "metadata": {},
   "source": [
    "Transform data into tensors, and divide in batches using DataLoader class."
   ]
  },
  {
   "cell_type": "code",
   "execution_count": 86,
   "id": "peripheral-savings",
   "metadata": {},
   "outputs": [],
   "source": [
    "batch_size = 40\n",
    "x_tr_tensor = torch.Tensor(x_tr)\n",
    "dataload = DataLoader(x_tr_tensor,batch_size=batch_size)"
   ]
  },
  {
   "cell_type": "markdown",
   "id": "fossil-advancement",
   "metadata": {},
   "source": [
    "Prepare autoencoder."
   ]
  },
  {
   "cell_type": "code",
   "execution_count": 67,
   "id": "nonprofit-tooth",
   "metadata": {},
   "outputs": [],
   "source": [
    "class AE(nn.Module):\n",
    "    def __init__(self):\n",
    "        super().__init__()\n",
    "        self.layer1 = nn.Linear(10,5)\n",
    "        self.layer2 = nn.Linear(5,2)\n",
    "        self.layer3 = nn.Linear(2,5)\n",
    "        self.out_layer = nn.Linear(5,10)\n",
    "        self.relu = nn.ReLU()\n",
    "        \n",
    "    def forward(self,x):\n",
    "        x = self.relu(self.layer1(x))\n",
    "        x = self.relu(self.layer2(x))\n",
    "        x = self.relu(self.layer3(x))\n",
    "        x = self.out_layer(x)\n",
    "        return x"
   ]
  },
  {
   "cell_type": "markdown",
   "id": "limited-thirty",
   "metadata": {},
   "source": [
    "Intialize parameters for model training."
   ]
  },
  {
   "cell_type": "code",
   "execution_count": 87,
   "id": "solid-guard",
   "metadata": {},
   "outputs": [
    {
     "name": "stdout",
     "output_type": "stream",
     "text": [
      "AE(\n",
      "  (layer1): Linear(in_features=10, out_features=5, bias=True)\n",
      "  (layer2): Linear(in_features=5, out_features=2, bias=True)\n",
      "  (layer3): Linear(in_features=2, out_features=5, bias=True)\n",
      "  (out_layer): Linear(in_features=5, out_features=10, bias=True)\n",
      "  (relu): ReLU()\n",
      ")\n"
     ]
    }
   ],
   "source": [
    "device = torch.device('cuda' if torch.cuda.is_available() else 'cpu')\n",
    "n_epochs = 200\n",
    "lr = 1e-3\n",
    "\n",
    "model = AE()\n",
    "\n",
    "optimizer = optim.Adam(model.parameters(),lr=lr)\n",
    "loss_fn = nn.MSELoss()"
   ]
  },
  {
   "cell_type": "markdown",
   "id": "front-phenomenon",
   "metadata": {},
   "source": [
    "Train the AE to reconstruct the data:"
   ]
  },
  {
   "cell_type": "code",
   "execution_count": 89,
   "id": "upper-sixth",
   "metadata": {
    "collapsed": true,
    "jupyter": {
     "outputs_hidden": true
    }
   },
   "outputs": [
    {
     "name": "stdout",
     "output_type": "stream",
     "text": [
      "epoch: 01 | loss: 66.59320068359375\n",
      "epoch: 02 | loss: 66.43514251708984\n",
      "epoch: 03 | loss: 66.30167388916016\n",
      "epoch: 04 | loss: 66.18617248535156\n",
      "epoch: 05 | loss: 66.08313751220703\n",
      "epoch: 06 | loss: 65.98766326904297\n",
      "epoch: 07 | loss: 65.89725494384766\n",
      "epoch: 08 | loss: 65.80912017822266\n",
      "epoch: 09 | loss: 65.7220230102539\n",
      "epoch: 10 | loss: 65.63478088378906\n",
      "epoch: 11 | loss: 65.54547882080078\n",
      "epoch: 12 | loss: 65.4535140991211\n",
      "epoch: 13 | loss: 65.357421875\n",
      "epoch: 14 | loss: 65.2541732788086\n",
      "epoch: 15 | loss: 65.13800048828125\n",
      "epoch: 16 | loss: 64.9879150390625\n",
      "epoch: 17 | loss: 64.7735366821289\n",
      "epoch: 18 | loss: 64.47189331054688\n",
      "epoch: 19 | loss: 64.03861236572266\n",
      "epoch: 20 | loss: 63.43179702758789\n",
      "epoch: 21 | loss: 62.63402557373047\n",
      "epoch: 22 | loss: 61.62556838989258\n",
      "epoch: 23 | loss: 60.428646087646484\n",
      "epoch: 24 | loss: 59.090980529785156\n",
      "epoch: 25 | loss: 57.67995834350586\n",
      "epoch: 26 | loss: 56.25261688232422\n",
      "epoch: 27 | loss: 54.8243408203125\n",
      "epoch: 28 | loss: 53.423580169677734\n",
      "epoch: 29 | loss: 52.07011032104492\n",
      "epoch: 30 | loss: 50.79108810424805\n",
      "epoch: 31 | loss: 49.60710525512695\n",
      "epoch: 32 | loss: 48.537391662597656\n",
      "epoch: 33 | loss: 47.58623123168945\n",
      "epoch: 34 | loss: 46.74691390991211\n",
      "epoch: 35 | loss: 46.0073356628418\n",
      "epoch: 36 | loss: 45.35293197631836\n",
      "epoch: 37 | loss: 44.767032623291016\n",
      "epoch: 38 | loss: 44.23627471923828\n",
      "epoch: 39 | loss: 43.752685546875\n",
      "epoch: 40 | loss: 43.310028076171875\n",
      "epoch: 41 | loss: 42.9029655456543\n",
      "epoch: 42 | loss: 42.527950286865234\n",
      "epoch: 43 | loss: 42.18132019042969\n",
      "epoch: 44 | loss: 41.86044692993164\n",
      "epoch: 45 | loss: 41.561798095703125\n",
      "epoch: 46 | loss: 41.282928466796875\n",
      "epoch: 47 | loss: 41.021141052246094\n",
      "epoch: 48 | loss: 40.77394104003906\n",
      "epoch: 49 | loss: 40.53903579711914\n",
      "epoch: 50 | loss: 40.31446075439453\n",
      "epoch: 51 | loss: 40.098472595214844\n",
      "epoch: 52 | loss: 39.889583587646484\n",
      "epoch: 53 | loss: 39.68644714355469\n",
      "epoch: 54 | loss: 39.488121032714844\n",
      "epoch: 55 | loss: 39.2938346862793\n",
      "epoch: 56 | loss: 39.10337448120117\n",
      "epoch: 57 | loss: 38.91844940185547\n",
      "epoch: 58 | loss: 38.735931396484375\n",
      "epoch: 59 | loss: 38.554649353027344\n",
      "epoch: 60 | loss: 38.374881744384766\n",
      "epoch: 61 | loss: 38.19655990600586\n",
      "epoch: 62 | loss: 38.0195198059082\n",
      "epoch: 63 | loss: 37.84365463256836\n",
      "epoch: 64 | loss: 37.66889572143555\n",
      "epoch: 65 | loss: 37.49519729614258\n",
      "epoch: 66 | loss: 37.3225212097168\n",
      "epoch: 67 | loss: 37.150917053222656\n",
      "epoch: 68 | loss: 36.98054885864258\n",
      "epoch: 69 | loss: 36.811363220214844\n",
      "epoch: 70 | loss: 36.64310836791992\n",
      "epoch: 71 | loss: 36.4766731262207\n",
      "epoch: 72 | loss: 36.3112678527832\n",
      "epoch: 73 | loss: 36.146785736083984\n",
      "epoch: 74 | loss: 35.98340606689453\n",
      "epoch: 75 | loss: 35.82124328613281\n",
      "epoch: 76 | loss: 35.66041564941406\n",
      "epoch: 77 | loss: 35.50115203857422\n",
      "epoch: 78 | loss: 35.34303283691406\n",
      "epoch: 79 | loss: 35.186546325683594\n",
      "epoch: 80 | loss: 35.03135681152344\n",
      "epoch: 81 | loss: 34.877685546875\n",
      "epoch: 82 | loss: 34.725746154785156\n",
      "epoch: 83 | loss: 34.57516860961914\n",
      "epoch: 84 | loss: 34.42625045776367\n",
      "epoch: 85 | loss: 34.279117584228516\n",
      "epoch: 86 | loss: 34.13352584838867\n",
      "epoch: 87 | loss: 33.989620208740234\n",
      "epoch: 88 | loss: 33.847938537597656\n",
      "epoch: 89 | loss: 33.707313537597656\n",
      "epoch: 90 | loss: 33.56878662109375\n",
      "epoch: 91 | loss: 33.43252182006836\n",
      "epoch: 92 | loss: 33.29741668701172\n",
      "epoch: 93 | loss: 33.16460037231445\n",
      "epoch: 94 | loss: 33.033966064453125\n",
      "epoch: 95 | loss: 32.90471267700195\n",
      "epoch: 96 | loss: 32.77775573730469\n",
      "epoch: 97 | loss: 32.652854919433594\n",
      "epoch: 98 | loss: 32.5297737121582\n",
      "epoch: 99 | loss: 32.408958435058594\n",
      "epoch: 100 | loss: 32.29010772705078\n",
      "epoch: 101 | loss: 32.173255920410156\n",
      "epoch: 102 | loss: 32.058353424072266\n",
      "epoch: 103 | loss: 31.945579528808594\n",
      "epoch: 104 | loss: 31.83513641357422\n",
      "epoch: 105 | loss: 31.72662925720215\n",
      "epoch: 106 | loss: 31.620065689086914\n",
      "epoch: 107 | loss: 31.51571273803711\n",
      "epoch: 108 | loss: 31.41366195678711\n",
      "epoch: 109 | loss: 31.31342315673828\n",
      "epoch: 110 | loss: 31.215364456176758\n",
      "epoch: 111 | loss: 31.119384765625\n",
      "epoch: 112 | loss: 31.02564239501953\n",
      "epoch: 113 | loss: 30.933805465698242\n",
      "epoch: 114 | loss: 30.843982696533203\n",
      "epoch: 115 | loss: 30.75632095336914\n",
      "epoch: 116 | loss: 30.67066192626953\n",
      "epoch: 117 | loss: 30.58700942993164\n",
      "epoch: 118 | loss: 30.504972457885742\n",
      "epoch: 119 | loss: 30.424747467041016\n",
      "epoch: 120 | loss: 30.346508026123047\n",
      "epoch: 121 | loss: 30.270217895507812\n",
      "epoch: 122 | loss: 30.195886611938477\n",
      "epoch: 123 | loss: 30.123445510864258\n",
      "epoch: 124 | loss: 30.05286979675293\n",
      "epoch: 125 | loss: 29.984146118164062\n",
      "epoch: 126 | loss: 29.91752052307129\n",
      "epoch: 127 | loss: 29.851696014404297\n",
      "epoch: 128 | loss: 29.787654876708984\n",
      "epoch: 129 | loss: 29.72559356689453\n",
      "epoch: 130 | loss: 29.664947509765625\n",
      "epoch: 131 | loss: 29.606182098388672\n",
      "epoch: 132 | loss: 29.548908233642578\n",
      "epoch: 133 | loss: 29.4930419921875\n",
      "epoch: 134 | loss: 29.43860626220703\n",
      "epoch: 135 | loss: 29.385080337524414\n",
      "epoch: 136 | loss: 29.332767486572266\n",
      "epoch: 137 | loss: 29.281940460205078\n",
      "epoch: 138 | loss: 29.232879638671875\n",
      "epoch: 139 | loss: 29.184391021728516\n",
      "epoch: 140 | loss: 29.137372970581055\n",
      "epoch: 141 | loss: 29.09231185913086\n",
      "epoch: 142 | loss: 29.04869270324707\n",
      "epoch: 143 | loss: 29.00640869140625\n",
      "epoch: 144 | loss: 28.965322494506836\n",
      "epoch: 145 | loss: 28.925748825073242\n",
      "epoch: 146 | loss: 28.887432098388672\n",
      "epoch: 147 | loss: 28.8486328125\n",
      "epoch: 148 | loss: 28.810993194580078\n",
      "epoch: 149 | loss: 28.774717330932617\n",
      "epoch: 150 | loss: 28.739858627319336\n",
      "epoch: 151 | loss: 28.70621681213379\n",
      "epoch: 152 | loss: 28.673673629760742\n",
      "epoch: 153 | loss: 28.64154815673828\n",
      "epoch: 154 | loss: 28.609630584716797\n",
      "epoch: 155 | loss: 28.57882308959961\n",
      "epoch: 156 | loss: 28.5495548248291\n",
      "epoch: 157 | loss: 28.521329879760742\n",
      "epoch: 158 | loss: 28.494449615478516\n",
      "epoch: 159 | loss: 28.468360900878906\n",
      "epoch: 160 | loss: 28.443408966064453\n",
      "epoch: 161 | loss: 28.41931915283203\n",
      "epoch: 162 | loss: 28.395784378051758\n",
      "epoch: 163 | loss: 28.372726440429688\n",
      "epoch: 164 | loss: 28.350357055664062\n",
      "epoch: 165 | loss: 28.329124450683594\n",
      "epoch: 166 | loss: 28.3085994720459\n",
      "epoch: 167 | loss: 28.289016723632812\n",
      "epoch: 168 | loss: 28.270023345947266\n",
      "epoch: 169 | loss: 28.251846313476562\n",
      "epoch: 170 | loss: 28.234451293945312\n",
      "epoch: 171 | loss: 28.217693328857422\n",
      "epoch: 172 | loss: 28.20121192932129\n",
      "epoch: 173 | loss: 28.186044692993164\n",
      "epoch: 174 | loss: 28.170907974243164\n",
      "epoch: 175 | loss: 28.15634536743164\n",
      "epoch: 176 | loss: 28.142539978027344\n",
      "epoch: 177 | loss: 28.128890991210938\n",
      "epoch: 178 | loss: 28.116378784179688\n",
      "epoch: 179 | loss: 28.10357666015625\n",
      "epoch: 180 | loss: 28.09194564819336\n",
      "epoch: 181 | loss: 28.080238342285156\n",
      "epoch: 182 | loss: 28.069164276123047\n",
      "epoch: 183 | loss: 28.058408737182617\n",
      "epoch: 184 | loss: 28.048046112060547\n",
      "epoch: 185 | loss: 28.038190841674805\n",
      "epoch: 186 | loss: 28.028837203979492\n",
      "epoch: 187 | loss: 28.019384384155273\n",
      "epoch: 188 | loss: 28.010698318481445\n",
      "epoch: 189 | loss: 28.001935958862305\n",
      "epoch: 190 | loss: 27.993980407714844\n",
      "epoch: 191 | loss: 27.98604965209961\n",
      "epoch: 192 | loss: 27.978334426879883\n",
      "epoch: 193 | loss: 27.971067428588867\n",
      "epoch: 194 | loss: 27.964069366455078\n",
      "epoch: 195 | loss: 27.95720100402832\n",
      "epoch: 196 | loss: 27.95058250427246\n",
      "epoch: 197 | loss: 27.944629669189453\n",
      "epoch: 198 | loss: 27.938297271728516\n",
      "epoch: 199 | loss: 27.932695388793945\n",
      "epoch: 200 | loss: 27.926856994628906\n",
      "epoch: 201 | loss: 27.921661376953125\n",
      "epoch: 202 | loss: 27.91623878479004\n",
      "epoch: 203 | loss: 27.911521911621094\n",
      "epoch: 204 | loss: 27.906633377075195\n",
      "epoch: 205 | loss: 27.901939392089844\n",
      "epoch: 206 | loss: 27.897546768188477\n",
      "epoch: 207 | loss: 27.893291473388672\n",
      "epoch: 208 | loss: 27.889102935791016\n",
      "epoch: 209 | loss: 27.88517951965332\n",
      "epoch: 210 | loss: 27.881404876708984\n",
      "epoch: 211 | loss: 27.877750396728516\n",
      "epoch: 212 | loss: 27.874332427978516\n",
      "epoch: 213 | loss: 27.870670318603516\n",
      "epoch: 214 | loss: 27.867469787597656\n",
      "epoch: 215 | loss: 27.864601135253906\n",
      "epoch: 216 | loss: 27.861221313476562\n",
      "epoch: 217 | loss: 27.858591079711914\n",
      "epoch: 218 | loss: 27.85390281677246\n",
      "epoch: 219 | loss: 27.851276397705078\n",
      "epoch: 220 | loss: 27.848594665527344\n",
      "epoch: 221 | loss: 27.84589385986328\n",
      "epoch: 222 | loss: 27.840978622436523\n",
      "epoch: 223 | loss: 27.83512306213379\n",
      "epoch: 224 | loss: 27.8294734954834\n",
      "epoch: 225 | loss: 27.8231201171875\n",
      "epoch: 226 | loss: 27.8161678314209\n",
      "epoch: 227 | loss: 27.808963775634766\n",
      "epoch: 228 | loss: 27.801773071289062\n",
      "epoch: 229 | loss: 27.79398536682129\n",
      "epoch: 230 | loss: 27.7864933013916\n",
      "epoch: 231 | loss: 27.774822235107422\n",
      "epoch: 232 | loss: 27.76312255859375\n",
      "epoch: 233 | loss: 27.753210067749023\n",
      "epoch: 234 | loss: 27.74563217163086\n",
      "epoch: 235 | loss: 27.739408493041992\n",
      "epoch: 236 | loss: 27.732126235961914\n",
      "epoch: 237 | loss: 27.725379943847656\n",
      "epoch: 238 | loss: 27.71324920654297\n",
      "epoch: 239 | loss: 27.701255798339844\n",
      "epoch: 240 | loss: 27.691097259521484\n",
      "epoch: 241 | loss: 27.682809829711914\n",
      "epoch: 242 | loss: 27.67508888244629\n",
      "epoch: 243 | loss: 27.667259216308594\n",
      "epoch: 244 | loss: 27.65997314453125\n",
      "epoch: 245 | loss: 27.652015686035156\n",
      "epoch: 246 | loss: 27.64560890197754\n",
      "epoch: 247 | loss: 27.638429641723633\n",
      "epoch: 248 | loss: 27.632572174072266\n",
      "epoch: 249 | loss: 27.62729835510254\n",
      "epoch: 250 | loss: 27.622392654418945\n",
      "epoch: 251 | loss: 27.617406845092773\n",
      "epoch: 252 | loss: 27.612789154052734\n",
      "epoch: 253 | loss: 27.608720779418945\n",
      "epoch: 254 | loss: 27.604293823242188\n",
      "epoch: 255 | loss: 27.599849700927734\n",
      "epoch: 256 | loss: 27.59576416015625\n",
      "epoch: 257 | loss: 27.59222412109375\n",
      "epoch: 258 | loss: 27.58846664428711\n",
      "epoch: 259 | loss: 27.585065841674805\n",
      "epoch: 260 | loss: 27.582149505615234\n",
      "epoch: 261 | loss: 27.579193115234375\n",
      "epoch: 262 | loss: 27.576053619384766\n",
      "epoch: 263 | loss: 27.573678970336914\n",
      "epoch: 264 | loss: 27.570751190185547\n",
      "epoch: 265 | loss: 27.567981719970703\n",
      "epoch: 266 | loss: 27.56512451171875\n",
      "epoch: 267 | loss: 27.560728073120117\n",
      "epoch: 268 | loss: 27.556150436401367\n",
      "epoch: 269 | loss: 27.551816940307617\n",
      "epoch: 270 | loss: 27.54822540283203\n",
      "epoch: 271 | loss: 27.544973373413086\n",
      "epoch: 272 | loss: 27.542232513427734\n",
      "epoch: 273 | loss: 27.538711547851562\n",
      "epoch: 274 | loss: 27.5357666015625\n",
      "epoch: 275 | loss: 27.533245086669922\n",
      "epoch: 276 | loss: 27.52935791015625\n",
      "epoch: 277 | loss: 27.52541732788086\n",
      "epoch: 278 | loss: 27.520610809326172\n",
      "epoch: 279 | loss: 27.51750373840332\n",
      "epoch: 280 | loss: 27.513935089111328\n",
      "epoch: 281 | loss: 27.51023292541504\n",
      "epoch: 282 | loss: 27.507556915283203\n",
      "epoch: 283 | loss: 27.504093170166016\n",
      "epoch: 284 | loss: 27.501882553100586\n",
      "epoch: 285 | loss: 27.498823165893555\n",
      "epoch: 286 | loss: 27.495464324951172\n",
      "epoch: 287 | loss: 27.493093490600586\n",
      "epoch: 288 | loss: 27.489334106445312\n",
      "epoch: 289 | loss: 27.48668670654297\n",
      "epoch: 290 | loss: 27.483699798583984\n",
      "epoch: 291 | loss: 27.480499267578125\n",
      "epoch: 292 | loss: 27.476980209350586\n",
      "epoch: 293 | loss: 27.47342872619629\n",
      "epoch: 294 | loss: 27.470260620117188\n",
      "epoch: 295 | loss: 27.467004776000977\n",
      "epoch: 296 | loss: 27.46380043029785\n",
      "epoch: 297 | loss: 27.460710525512695\n",
      "epoch: 298 | loss: 27.457927703857422\n",
      "epoch: 299 | loss: 27.455163955688477\n",
      "epoch: 300 | loss: 27.452171325683594\n",
      "epoch: 301 | loss: 27.448028564453125\n",
      "epoch: 302 | loss: 27.442630767822266\n",
      "epoch: 303 | loss: 27.438451766967773\n",
      "epoch: 304 | loss: 27.43423843383789\n",
      "epoch: 305 | loss: 27.430707931518555\n",
      "epoch: 306 | loss: 27.427059173583984\n",
      "epoch: 307 | loss: 27.42336654663086\n",
      "epoch: 308 | loss: 27.420013427734375\n",
      "epoch: 309 | loss: 27.416858673095703\n",
      "epoch: 310 | loss: 27.4132022857666\n",
      "epoch: 311 | loss: 27.409759521484375\n",
      "epoch: 312 | loss: 27.405811309814453\n",
      "epoch: 313 | loss: 27.400606155395508\n",
      "epoch: 314 | loss: 27.393959045410156\n",
      "epoch: 315 | loss: 27.387325286865234\n",
      "epoch: 316 | loss: 27.381031036376953\n",
      "epoch: 317 | loss: 27.374839782714844\n",
      "epoch: 318 | loss: 27.369064331054688\n",
      "epoch: 319 | loss: 27.363401412963867\n",
      "epoch: 320 | loss: 27.356494903564453\n",
      "epoch: 321 | loss: 27.35018539428711\n",
      "epoch: 322 | loss: 27.34497833251953\n",
      "epoch: 323 | loss: 27.33958625793457\n",
      "epoch: 324 | loss: 27.333904266357422\n",
      "epoch: 325 | loss: 27.327051162719727\n",
      "epoch: 326 | loss: 27.321208953857422\n",
      "epoch: 327 | loss: 27.314481735229492\n",
      "epoch: 328 | loss: 27.30781364440918\n",
      "epoch: 329 | loss: 27.303529739379883\n",
      "epoch: 330 | loss: 27.297435760498047\n",
      "epoch: 331 | loss: 27.290685653686523\n",
      "epoch: 332 | loss: 27.287710189819336\n",
      "epoch: 333 | loss: 27.281982421875\n",
      "epoch: 334 | loss: 27.275981903076172\n",
      "epoch: 335 | loss: 27.27295684814453\n",
      "epoch: 336 | loss: 27.267396926879883\n",
      "epoch: 337 | loss: 27.26155662536621\n",
      "epoch: 338 | loss: 27.259084701538086\n",
      "epoch: 339 | loss: 27.253101348876953\n",
      "epoch: 340 | loss: 27.247583389282227\n",
      "epoch: 341 | loss: 27.244468688964844\n",
      "epoch: 342 | loss: 27.238916397094727\n",
      "epoch: 343 | loss: 27.234783172607422\n",
      "epoch: 344 | loss: 27.22968864440918\n",
      "epoch: 345 | loss: 27.226333618164062\n",
      "epoch: 346 | loss: 27.22202491760254\n",
      "epoch: 347 | loss: 27.21720314025879\n",
      "epoch: 348 | loss: 27.215322494506836\n",
      "epoch: 349 | loss: 27.21015167236328\n",
      "epoch: 350 | loss: 27.206722259521484\n",
      "epoch: 351 | loss: 27.203218460083008\n",
      "epoch: 352 | loss: 27.19907569885254\n",
      "epoch: 353 | loss: 27.19659996032715\n",
      "epoch: 354 | loss: 27.19261932373047\n",
      "epoch: 355 | loss: 27.188762664794922\n",
      "epoch: 356 | loss: 27.186445236206055\n",
      "epoch: 357 | loss: 27.182357788085938\n",
      "epoch: 358 | loss: 27.179344177246094\n",
      "epoch: 359 | loss: 27.174970626831055\n",
      "epoch: 360 | loss: 27.171812057495117\n",
      "epoch: 361 | loss: 27.168149948120117\n",
      "epoch: 362 | loss: 27.164112091064453\n",
      "epoch: 363 | loss: 27.161243438720703\n",
      "epoch: 364 | loss: 27.156112670898438\n",
      "epoch: 365 | loss: 27.15250015258789\n",
      "epoch: 366 | loss: 27.146711349487305\n",
      "epoch: 367 | loss: 27.14112091064453\n",
      "epoch: 368 | loss: 27.135028839111328\n",
      "epoch: 369 | loss: 27.130386352539062\n",
      "epoch: 370 | loss: 27.122703552246094\n",
      "epoch: 371 | loss: 27.11720848083496\n",
      "epoch: 372 | loss: 27.10979461669922\n",
      "epoch: 373 | loss: 27.10342788696289\n",
      "epoch: 374 | loss: 27.097187042236328\n",
      "epoch: 375 | loss: 27.089906692504883\n",
      "epoch: 376 | loss: 27.083457946777344\n",
      "epoch: 377 | loss: 27.077672958374023\n",
      "epoch: 378 | loss: 27.070228576660156\n",
      "epoch: 379 | loss: 27.064428329467773\n",
      "epoch: 380 | loss: 27.057754516601562\n",
      "epoch: 381 | loss: 27.05083656311035\n",
      "epoch: 382 | loss: 27.043861389160156\n",
      "epoch: 383 | loss: 27.03673553466797\n",
      "epoch: 384 | loss: 27.029600143432617\n",
      "epoch: 385 | loss: 27.021217346191406\n",
      "epoch: 386 | loss: 27.01406478881836\n",
      "epoch: 387 | loss: 27.00621223449707\n",
      "epoch: 388 | loss: 26.99846839904785\n",
      "epoch: 389 | loss: 26.98954200744629\n",
      "epoch: 390 | loss: 26.978973388671875\n",
      "epoch: 391 | loss: 26.96987533569336\n",
      "epoch: 392 | loss: 26.954416275024414\n",
      "epoch: 393 | loss: 26.94187355041504\n",
      "epoch: 394 | loss: 26.931283950805664\n",
      "epoch: 395 | loss: 26.920812606811523\n",
      "epoch: 396 | loss: 26.9158935546875\n",
      "epoch: 397 | loss: 26.905550003051758\n",
      "epoch: 398 | loss: 26.898096084594727\n",
      "epoch: 399 | loss: 26.88871192932129\n",
      "epoch: 400 | loss: 26.881126403808594\n",
      "epoch: 401 | loss: 26.872013092041016\n",
      "epoch: 402 | loss: 26.863862991333008\n",
      "epoch: 403 | loss: 26.85506820678711\n",
      "epoch: 404 | loss: 26.847362518310547\n",
      "epoch: 405 | loss: 26.838970184326172\n",
      "epoch: 406 | loss: 26.831600189208984\n",
      "epoch: 407 | loss: 26.82274627685547\n",
      "epoch: 408 | loss: 26.81654167175293\n",
      "epoch: 409 | loss: 26.80742835998535\n",
      "epoch: 410 | loss: 26.802576065063477\n",
      "epoch: 411 | loss: 26.792972564697266\n",
      "epoch: 412 | loss: 26.78799819946289\n",
      "epoch: 413 | loss: 26.778919219970703\n",
      "epoch: 414 | loss: 26.773408889770508\n",
      "epoch: 415 | loss: 26.765565872192383\n",
      "epoch: 416 | loss: 26.75786018371582\n",
      "epoch: 417 | loss: 26.75078582763672\n",
      "epoch: 418 | loss: 26.743331909179688\n",
      "epoch: 419 | loss: 26.73600196838379\n",
      "epoch: 420 | loss: 26.729141235351562\n",
      "epoch: 421 | loss: 26.722064971923828\n",
      "epoch: 422 | loss: 26.715307235717773\n",
      "epoch: 423 | loss: 26.708786010742188\n",
      "epoch: 424 | loss: 26.702425003051758\n",
      "epoch: 425 | loss: 26.696500778198242\n",
      "epoch: 426 | loss: 26.690486907958984\n",
      "epoch: 427 | loss: 26.684635162353516\n",
      "epoch: 428 | loss: 26.6791934967041\n",
      "epoch: 429 | loss: 26.673660278320312\n",
      "epoch: 430 | loss: 26.667957305908203\n",
      "epoch: 431 | loss: 26.662498474121094\n",
      "epoch: 432 | loss: 26.656898498535156\n",
      "epoch: 433 | loss: 26.651411056518555\n",
      "epoch: 434 | loss: 26.64582061767578\n",
      "epoch: 435 | loss: 26.640308380126953\n",
      "epoch: 436 | loss: 26.635086059570312\n",
      "epoch: 437 | loss: 26.62980079650879\n",
      "epoch: 438 | loss: 26.624637603759766\n",
      "epoch: 439 | loss: 26.61977195739746\n",
      "epoch: 440 | loss: 26.614173889160156\n",
      "epoch: 441 | loss: 26.609437942504883\n",
      "epoch: 442 | loss: 26.604618072509766\n",
      "epoch: 443 | loss: 26.599246978759766\n",
      "epoch: 444 | loss: 26.59581756591797\n",
      "epoch: 445 | loss: 26.590688705444336\n",
      "epoch: 446 | loss: 26.586977005004883\n",
      "epoch: 447 | loss: 26.582294464111328\n",
      "epoch: 448 | loss: 26.57870864868164\n",
      "epoch: 449 | loss: 26.574134826660156\n",
      "epoch: 450 | loss: 26.570762634277344\n"
     ]
    }
   ],
   "source": [
    "model.to(device)\n",
    "model.train()\n",
    "agg_loss = []\n",
    "for epoch in range(1,n_epochs+1):\n",
    "    epoch_loss = 0\n",
    "    for x in dataload:\n",
    "        optimizer.zero_grad()\n",
    "        preds = model(x)\n",
    "        loss = loss_fn(preds,x)\n",
    "        loss.backward()\n",
    "        optimizer.step()\n",
    "        epoch_loss += loss\n",
    "    epoch_loss = epoch_loss/len(dataload)\n",
    "    agg_loss.append(epoch_loss)\n",
    "    print(f'epoch: {epoch+0:02} | loss: {epoch_loss}')"
   ]
  },
  {
   "cell_type": "markdown",
   "id": "economic-halloween",
   "metadata": {},
   "source": [
    "Plot loss curve:"
   ]
  },
  {
   "cell_type": "code",
   "execution_count": 90,
   "id": "egyptian-independence",
   "metadata": {},
   "outputs": [
    {
     "data": {
      "text/plain": [
       "[<matplotlib.lines.Line2D at 0x2816b4ca9c8>]"
      ]
     },
     "execution_count": 90,
     "metadata": {},
     "output_type": "execute_result"
    },
    {
     "data": {
      "image/png": "[encoded data removed]",
      "text/plain": [
       "<Figure size 432x288 with 1 Axes>"
      ]
     },
     "metadata": {
      "needs_background": "light"
     },
     "output_type": "display_data"
    }
   ],
   "source": [
    "plt.plot(agg_loss)\n",
    "plt.title('Loss Curve');"
   ]
  },
  {
   "cell_type": "markdown",
   "id": "editorial-connection",
   "metadata": {},
   "source": [
    "Use reconstructed data as test data for the logistic regression model. If it yields high accuracy the AE works and we can use it as a feature extractor."
   ]
  },
  {
   "cell_type": "code",
   "execution_count": 102,
   "id": "packed-seeker",
   "metadata": {},
   "outputs": [
    {
     "name": "stdout",
     "output_type": "stream",
     "text": [
      "accuracy: 0.9875\n",
      "\n"
     ]
    },
    {
     "data": {
      "text/plain": [
       "<AxesSubplot:>"
      ]
     },
     "execution_count": 102,
     "metadata": {},
     "output_type": "execute_result"
    },
    {
     "data": {
      "image/png": "[encoded data removed]",
      "text/plain": [
       "<Figure size 432x288 with 2 Axes>"
      ]
     },
     "metadata": {
      "needs_background": "light"
     },
     "output_type": "display_data"
    }
   ],
   "source": [
    "reconstructed = model(torch.Tensor(x_ts,))\n",
    "reconstructed = reconstructed.detach().cpu().numpy()\n",
    "\n",
    "lr = LogisticRegression()\n",
    "lr.fit(x_tr,y_tr)\n",
    "preds = lr.predict(reconstructed)\n",
    "\n",
    "print('accuracy:', accuracy_score(y_ts,preds))\n",
    "print('')\n",
    "sns.heatmap(confusion_matrix(y_ts,preds),annot=True,fmt='1d')"
   ]
  },
  {
   "cell_type": "markdown",
   "id": "gothic-tiger",
   "metadata": {},
   "source": [
    "It yields good performance, and we will use it to extract features.\n",
    "\n",
    "Let's us plot the reconstructed data first (first two features), to get a feel for how the AE worked on them."
   ]
  },
  {
   "cell_type": "code",
   "execution_count": 105,
   "id": "casual-leader",
   "metadata": {},
   "outputs": [
    {
     "data": {
      "text/plain": [
       "<matplotlib.collections.PathCollection at 0x2816c0edec8>"
      ]
     },
     "execution_count": 105,
     "metadata": {},
     "output_type": "execute_result"
    },
    {
     "data": {
      "image/png": "[encoded data removed]",
      "text/plain": [
       "<Figure size 864x360 with 2 Axes>"
      ]
     },
     "metadata": {
      "needs_background": "light"
     },
     "output_type": "display_data"
    }
   ],
   "source": [
    "plt.figure(figsize=(12,5))\n",
    "plt.subplot(1,2,1)\n",
    "plt.scatter(x_ts[y_ts==0][:,0],x_ts[y_ts==0][:,1],c='red')\n",
    "plt.scatter(x_ts[y_ts==1][:,0],x_ts[y_ts==1][:,1],c='green')\n",
    "plt.title('Original Data')\n",
    "\n",
    "plt.subplot(1,2,2)\n",
    "plt.scatter(reconstructed[y_ts==0][:,0],reconstructed[y_ts==0][:,1],c='red')\n",
    "plt.scatter(reconstructed[y_ts==1][:,0],reconstructed[y_ts==1][:,1],c='green')\n",
    "plt.title('Reconstructed Data')"
   ]
  },
  {
   "cell_type": "markdown",
   "id": "later-paintball",
   "metadata": {},
   "source": [
    "# Extract lower dimensional features"
   ]
  },
  {
   "cell_type": "markdown",
   "id": "afraid-paper",
   "metadata": {},
   "source": [
    "Pass data only through the first layers of the AE to extract lower dimensional features. Convert these features into numpy arrays for training and testing logistic regression."
   ]
  },
  {
   "cell_type": "code",
   "execution_count": 114,
   "id": "romance-advisory",
   "metadata": {},
   "outputs": [],
   "source": [
    "x_tr_tensor = torch.Tensor(x_tr)\n",
    "extracted_features_tr = model.layer2(model.layer1(x_tr_tensor))\n",
    "extracted_features_tr = extracted_features_tr.detach().cpu().numpy()\n",
    "\n",
    "x_ts_tensor = torch.Tensor(x_ts)\n",
    "extracted_features_ts = model.layer2(model.layer1(x_ts_tensor))\n",
    "extracted_features_ts = extracted_features_ts.detach().cpu().numpy()"
   ]
  },
  {
   "cell_type": "markdown",
   "id": "valued-consortium",
   "metadata": {},
   "source": [
    "Train and test logistic regression with extracted features."
   ]
  },
  {
   "cell_type": "code",
   "execution_count": 115,
   "id": "floral-corpus",
   "metadata": {},
   "outputs": [
    {
     "name": "stdout",
     "output_type": "stream",
     "text": [
      "accuracy: 0.9875\n",
      "\n"
     ]
    },
    {
     "data": {
      "text/plain": [
       "<AxesSubplot:>"
      ]
     },
     "execution_count": 115,
     "metadata": {},
     "output_type": "execute_result"
    },
    {
     "data": {
      "image/png": "[encoded data removed]",
      "text/plain": [
       "<Figure size 432x288 with 2 Axes>"
      ]
     },
     "metadata": {
      "needs_background": "light"
     },
     "output_type": "display_data"
    }
   ],
   "source": [
    "lr = LogisticRegression()\n",
    "lr.fit(extracted_features_tr,y_tr)\n",
    "preds = lr.predict(extracted_features_ts)\n",
    "\n",
    "print('accuracy:', accuracy_score(y_ts,preds))\n",
    "print('')\n",
    "sns.heatmap(confusion_matrix(y_ts,preds),annot=True,fmt='1d')"
   ]
  },
  {
   "cell_type": "markdown",
   "id": "incomplete-popularity",
   "metadata": {},
   "source": [
    "It works. The extracted features contain discriminative information which the model can use to discriminate between different classes. We can now use the AE to extract lower dimensional features and make model training more efficient.\n",
    "\n",
    "Also, as we see in the plot below, there is evidence that the extracted features are less noisy than the original data, and could be better for training models than the original data."
   ]
  },
  {
   "cell_type": "code",
   "execution_count": 120,
   "id": "computational-nation",
   "metadata": {},
   "outputs": [
    {
     "data": {
      "text/plain": [
       "<matplotlib.collections.PathCollection at 0x2816bf39c88>"
      ]
     },
     "execution_count": 120,
     "metadata": {},
     "output_type": "execute_result"
    },
    {
     "data": {
      "image/png": "[encoded data removed]",
      "text/plain": [
       "<Figure size 1440x360 with 3 Axes>"
      ]
     },
     "metadata": {
      "needs_background": "light"
     },
     "output_type": "display_data"
    }
   ],
   "source": [
    "plt.figure(figsize=(20,5))\n",
    "plt.subplot(1,3,1)\n",
    "plt.scatter(x_ts[y_ts==0][:,0],x_ts[y_ts==0][:,1],c='red')\n",
    "plt.scatter(x_ts[y_ts==1][:,0],x_ts[y_ts==1][:,1],c='green')\n",
    "\n",
    "plt.subplot(1,3,2)\n",
    "plt.scatter(reconstructed[y_ts==0][:,0],reconstructed[y_ts==0][:,1],c='red')\n",
    "plt.scatter(reconstructed[y_ts==1][:,0],reconstructed[y_ts==1][:,1],c='green')\n",
    "\n",
    "plt.subplot(1,3,3)\n",
    "plt.scatter(extracted_features_ts[y_ts==0][:,0],extracted_features_ts[y_ts==0][:,1],c='red')\n",
    "plt.scatter(extracted_features_ts[y_ts==1][:,0],extracted_features_ts[y_ts==1][:,1],c='green')"
   ]
  }
 ],
 "metadata": {
  "kernelspec": {
   "display_name": "Python 3",
   "language": "python",
   "name": "python3"
  },
  "language_info": {
   "codemirror_mode": {
    "name": "ipython",
    "version": 3
   },
   "file_extension": ".py",
   "mimetype": "text/x-python",
   "name": "python",
   "nbconvert_exporter": "python",
   "pygments_lexer": "ipython3",
   "version": "3.7.10"
  }
 },
 "nbformat": 4,
 "nbformat_minor": 5
}
