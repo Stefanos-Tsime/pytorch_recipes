{
 "cells": [
  {
   "cell_type": "markdown",
   "id": "joint-resistance",
   "metadata": {},
   "source": [
    "# Hybrid CNN-RNN for Classification"
   ]
  },
  {
   "cell_type": "code",
   "execution_count": 1,
   "id": "industrial-recycling",
   "metadata": {},
   "outputs": [],
   "source": [
    "import numpy as np\n",
    "import pandas as pd\n",
    "import matplotlib.pyplot as plt\n",
    "from skimage.io import imshow\n",
    "import torch\n",
    "from torch import nn\n",
    "from torch import optim\n",
    "from torch.utils.data import Dataset, DataLoader"
   ]
  },
  {
   "cell_type": "markdown",
   "id": "ecological-correction",
   "metadata": {},
   "source": [
    "Import data and display some information."
   ]
  },
  {
   "cell_type": "code",
   "execution_count": null,
   "id": "phantom-spouse",
   "metadata": {},
   "outputs": [],
   "source": [
    "df_train = pd.read_csv('data/mnist/mnist_train.csv')\n",
    "df_test = pd.read_csv('data/mnist/mnist_test.csv')\n",
    "df_train.head(2)"
   ]
  },
  {
   "cell_type": "code",
   "execution_count": null,
   "id": "offshore-arthritis",
   "metadata": {},
   "outputs": [],
   "source": [
    "print(f'the flattened images are vectors of {df.values[0,1:].shape[0]} elements')\n",
    "side = np.sqrt(df.values[0,1:].shape[0]).astype('int')\n",
    "print(f'the normal images will have dimension: {side} x {side}')"
   ]
  },
  {
   "cell_type": "markdown",
   "id": "outdoor-manner",
   "metadata": {},
   "source": [
    "Visualize a few images"
   ]
  },
  {
   "cell_type": "code",
   "execution_count": null,
   "id": "bridal-crawford",
   "metadata": {},
   "outputs": [],
   "source": [
    "plt.figure(figsize=(14,3))\n",
    "plt.subplot(1,3,1)\n",
    "imshow(df.values[0,1:].reshape((28,28)))\n",
    "plt.subplot(1,3,2)\n",
    "imshow(df.values[3,1:].reshape((28,28)))\n",
    "plt.figure(figsize=(14,3))\n",
    "plt.subplot(1,3,1)\n",
    "imshow(df.values[10,1:].reshape((28,28)))\n",
    "plt.subplot(1,3,2)\n",
    "imshow(df.values[13,1:].reshape((28,28)))"
   ]
  },
  {
   "cell_type": "markdown",
   "id": "illegal-limit",
   "metadata": {},
   "source": [
    "Prepare dataset for pytorch."
   ]
  },
  {
   "cell_type": "code",
   "execution_count": 3,
   "id": "mysterious-support",
   "metadata": {},
   "outputs": [],
   "source": [
    "#class with data conversion function\n",
    "class mnist_dataprep_conv1d(Dataset):\n",
    "    def __init__(self,array):\n",
    "        self.x = array[:,1:]                             #first column is labels\n",
    "        self.x = torch.FloatTensor(self.x)\n",
    "        self.x = self.x.reshape(self.x.shape[0],1,self.x.shape[1]) #CNN1d takes shape [n_batches,n_channels,seq_len]\n",
    "        \n",
    "        self.y = array[:,0]                #labels are on first column\n",
    "        self.y = torch.LongTensor(self.y)  # they need to be in long format, not float\n",
    "        \n",
    "        self.n_samples = self.x.shape[0]   #this attribute might come in handy\n",
    "        \n",
    "    def __len__(self):\n",
    "        return self.n_samples\n",
    "    \n",
    "    def __getitem__(self,index):\n",
    "        return self.x[index], self.y[index]\n",
    "    \n",
    "    \n",
    "    \n",
    "#convert data using custom function\n",
    "train = mnist_dataprep_conv1d(df_train.values[:-1000])\n",
    "val = mnist_dataprep_conv1d(df_train.values[-1000:])\n",
    "test = mnist_dataprep_conv1d(df_test.values)\n",
    "\n",
    "#use dataloader to divide data into batches\n",
    "trainloader = DataLoader(train,batch_size=100)\n",
    "valloader = DataLoader(val,batch_size=100)\n",
    "testloader = DataLoader(test,batch_size=100)"
   ]
  },
  {
   "cell_type": "markdown",
   "id": "separated-elder",
   "metadata": {},
   "source": [
    "Hybrid neural network architecture."
   ]
  },
  {
   "cell_type": "code",
   "execution_count": 53,
   "id": "convertible-joyce",
   "metadata": {},
   "outputs": [],
   "source": [
    "class CNN_RNN(nn.Module):\n",
    "    def __init__(self,out_channels=10,kernel_size=4):\n",
    "        super(CNN_RNN,self).__init__()\n",
    "        self.conv1 = nn.Conv1d(1,out_channels,kernel_size=kernel_size)\n",
    "        self.pool1 = nn.MaxPool1d(kernel_size=4)\n",
    "        \n",
    "        self.rnn = nn.RNN(input_size=10, hidden_size=100, num_layers=1, batch_first=True)\n",
    "        self.fc = nn.Linear(195*100,10)           #[seq_len*hidden_size,n_classes]\n",
    "        \n",
    "        self.conv2 = nn.Conv1d(out_channels,out_channels*5,kernel_size=kernel_size)\n",
    "        self.pool2 = nn.MaxPool1d(kernel_size=4)\n",
    "        self.flat = nn.Flatten()\n",
    "        self.out = nn.Linear(19500,10)\n",
    "        self.relu = nn.ReLU()\n",
    "        \n",
    "    def forward(self,x):\n",
    "        x = self.conv1(x)\n",
    "        x = self.pool1(x)\n",
    "        x = self.relu(x)\n",
    "        x = x.reshape(x.shape[0],x.shape[2],x.shape[1])\n",
    "        x,h = self.rnn(x)\n",
    "        x = self.flat(x)\n",
    "        #x = self.fc(x)\n",
    "        #x = self.conv2(x)\n",
    "        #x = self.pool2(x)\n",
    "        #x = self.relu(x)\n",
    "        #x = self.flat(x)\n",
    "        x = self.out(x)\n",
    "        \n",
    "        return x"
   ]
  },
  {
   "cell_type": "markdown",
   "id": "welcome-lighter",
   "metadata": {},
   "source": [
    "Instantiate model and initialize some parameters."
   ]
  },
  {
   "cell_type": "code",
   "execution_count": 55,
   "id": "inner-listening",
   "metadata": {},
   "outputs": [
    {
     "name": "stdout",
     "output_type": "stream",
     "text": [
      "CNN_RNN(\n",
      "  (conv1): Conv1d(1, 10, kernel_size=(4,), stride=(1,))\n",
      "  (pool1): MaxPool1d(kernel_size=4, stride=4, padding=0, dilation=1, ceil_mode=False)\n",
      "  (rnn): RNN(10, 100, batch_first=True)\n",
      "  (fc): Linear(in_features=19500, out_features=10, bias=True)\n",
      "  (conv2): Conv1d(10, 50, kernel_size=(4,), stride=(1,))\n",
      "  (pool2): MaxPool1d(kernel_size=4, stride=4, padding=0, dilation=1, ceil_mode=False)\n",
      "  (flat): Flatten()\n",
      "  (out): Linear(in_features=19500, out_features=10, bias=True)\n",
      "  (relu): ReLU()\n",
      ")\n"
     ]
    }
   ],
   "source": [
    "device = torch.device('cuda' if torch.cuda.is_available() else 'cpu')\n",
    "lr = 1e-2\n",
    "\n",
    "model = CNN_RNN()\n",
    "print(model)\n",
    "\n",
    "loss_fn = nn.CrossEntropyLoss()\n",
    "optimizer = optim.Adam(model.parameters(),lr=lr)"
   ]
  },
  {
   "cell_type": "markdown",
   "id": "exciting-heath",
   "metadata": {},
   "source": [
    "Train hybrid CNN-RNN model."
   ]
  },
  {
   "cell_type": "code",
   "execution_count": 69,
   "id": "eleven-prayer",
   "metadata": {},
   "outputs": [
    {
     "name": "stdout",
     "output_type": "stream",
     "text": [
      "1\n",
      "2\n",
      "3\n",
      "4\n"
     ]
    }
   ],
   "source": [
    "model.train()\n",
    "agg_loss = []\n",
    "n_epochs = 3\n",
    "for epoch in range(1,n_epochs+1):\n",
    "    epoch_loss = 0\n",
    "    n_batches = 0\n",
    "    for x,y in trainloader:\n",
    "        optimizer.zero_grad()\n",
    "        preds = model(x)\n",
    "        loss = loss_fn(preds,y)\n",
    "        epoch_loss += loss\n",
    "        loss.backward()\n",
    "        optimizer.step()\n",
    "    epoch_loss = epoch_loss/n_batches\n",
    "    agg_loss.append(epoch_loss)\n",
    "    print(f'Epoch:{epoch+0:03} | Loss:{epoch_loss}')"
   ]
  },
  {
   "cell_type": "markdown",
   "id": "eight-broad",
   "metadata": {},
   "source": [
    "Plot loss curve:"
   ]
  },
  {
   "cell_type": "code",
   "execution_count": 90,
   "id": "stupid-alias",
   "metadata": {},
   "outputs": [
    {
     "data": {
      "text/plain": [
       "[<matplotlib.lines.Line2D at 0x2816b4ca9c8>]"
      ]
     },
     "execution_count": 90,
     "metadata": {},
     "output_type": "execute_result"
    },
    {
     "data": {
      "image/png": "[encoded data removed]",
      "text/plain": [
       "<Figure size 432x288 with 1 Axes>"
      ]
     },
     "metadata": {
      "needs_background": "light"
     },
     "output_type": "display_data"
    }
   ],
   "source": [
    "plt.plot(agg_loss)\n",
    "plt.title('Loss Curve');"
   ]
  },
  {
   "cell_type": "markdown",
   "id": "passing-review",
   "metadata": {},
   "source": [
    "Make predictions and compute accuracy."
   ]
  },
  {
   "cell_type": "code",
   "execution_count": 89,
   "id": "competitive-oakland",
   "metadata": {},
   "outputs": [
    {
     "name": "stdout",
     "output_type": "stream",
     "text": [
      "0.9059\n"
     ]
    }
   ],
   "source": [
    "#make predictions\n",
    "preds = model(test.x)\n",
    "preds = torch.argmax(preds,dim=1)\n",
    "\n",
    "#compute and print accuracy\n",
    "correct = (preds == test.y).sum()    #how many correct predictions\n",
    "accuracy = correct.numpy()/len(preds)#number of correct preds divided by total elements\n",
    "print('accuracy: ', accuracy)"
   ]
  }
 ],
 "metadata": {
  "kernelspec": {
   "display_name": "Python 3",
   "language": "python",
   "name": "python3"
  },
  "language_info": {
   "codemirror_mode": {
    "name": "ipython",
    "version": 3
   },
   "file_extension": ".py",
   "mimetype": "text/x-python",
   "name": "python",
   "nbconvert_exporter": "python",
   "pygments_lexer": "ipython3",
   "version": "3.7.10"
  }
 },
 "nbformat": 4,
 "nbformat_minor": 5
}
